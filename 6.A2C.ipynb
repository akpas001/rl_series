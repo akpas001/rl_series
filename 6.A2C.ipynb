{
 "cells": [
  {
   "cell_type": "markdown",
   "metadata": {},
   "source": [
    "# Synchronous A2C"
   ]
  },
  {
   "cell_type": "markdown",
   "metadata": {},
   "source": [
    "I used the codes from RL course at Aalto university and here: https://github.com/higgsfield/RL-Adventure-2/blob/master/1.actor-critic.ipynb\n"
   ]
  },
  {
   "cell_type": "code",
   "execution_count": 1,
   "metadata": {},
   "outputs": [],
   "source": [
    "import torch\n",
    "import torch.nn as nn\n",
    "import torch.optim as optim\n",
    "import torch.nn.functional as F\n",
    "from torch.distributions import Categorical\n",
    "\n",
    "import gym\n",
    "import matplotlib.pyplot as plt\n",
    "import numpy as np\n",
    "\n",
    "from multi_env import SubprocVecEnv\n",
    "\n",
    "from IPython.display import clear_output\n",
    "\n",
    "%matplotlib inline"
   ]
  },
  {
   "cell_type": "code",
   "execution_count": 2,
   "metadata": {},
   "outputs": [],
   "source": [
    "class ActorCritic(nn.Module):\n",
    "    def __init__(self, n_inputs, n_hiddens, n_outputs):\n",
    "        super(ActorCritic, self).__init__()\n",
    "        self.fc1 = nn.Linear(n_inputs, n_hiddens)\n",
    "        self.critic_head = nn.Linear(n_hiddens, 1)\n",
    "        self.actor_head = nn.Linear(n_hiddens, n_outputs)\n",
    "        \n",
    "    def forward(self, x):\n",
    "        x = F.relu(self.fc1(x))\n",
    "        value = self.critic_head(x)\n",
    "        action_logits = self.actor_head(x)\n",
    "        action_probs = F.softmax(action_logits)\n",
    "        return action_probs, value"
   ]
  },
  {
   "cell_type": "code",
   "execution_count": 3,
   "metadata": {},
   "outputs": [],
   "source": [
    "def compute_returns(next_value, rewards, masks, gamma=0.99):\n",
    "    R = next_value\n",
    "    returns = []\n",
    "    for step in reversed(range(len(rewards))):\n",
    "        R = rewards[step] + gamma * R * masks[step]\n",
    "        returns.insert(0, R)\n",
    "    return returns"
   ]
  },
  {
   "cell_type": "code",
   "execution_count": 4,
   "metadata": {},
   "outputs": [],
   "source": [
    "\n",
    "class A2CAgent(object):\n",
    "    def __init__(self, actor_critic):\n",
    "        self.train_device = 'cuda' if torch.cuda.is_available() else 'cpu'\n",
    "        self.actor_critic = actor_critic.to(self.train_device)\n",
    "        self.optimizer = torch.optim.RMSprop(self.actor_critic.parameters(), lr=5e-3)\n",
    "        self.gamma = 0.98\n",
    "        self.states = []\n",
    "        self.action_probs = []\n",
    "        self.rewards = []\n",
    "        self.state_values = []\n",
    "        self.next_state_values = []\n",
    "        self.masks = []\n",
    "        self.entropy = 0\n",
    "\n",
    "    def do_update(self, next_state_value):\n",
    "        action_probs = torch.cat(self.action_probs).to(self.train_device)\n",
    "        state_values = torch.cat(self.state_values).to(self.train_device)\n",
    "        rewards = self.rewards\n",
    "        masks = self.masks\n",
    "        entropy = self.entropy\n",
    "\n",
    "        self.states, self.action_probs, self.rewards, self.state_values, self.masks = [], [], [], [], []\n",
    "        self.entropy = 0\n",
    "\n",
    "        returns = compute_returns(next_state_value, rewards, masks, self.gamma)\n",
    "        returns = torch.cat(returns).detach()\n",
    "\n",
    "        advantage = returns - state_values\n",
    "\n",
    "        actor_loss = - (action_probs * advantage.detach()).mean()\n",
    "        critic_loss = advantage.pow(2).mean()\n",
    "\n",
    "        # scale of losses are different.\n",
    "        loss = actor_loss + 0.1 * critic_loss - 0.001 * entropy\n",
    "\n",
    "        self.optimizer.zero_grad()\n",
    "        loss.backward()\n",
    "        self.optimizer.step()\n",
    "\n",
    "    def get_action_update_entropy(self, observation, evaluation=False):\n",
    "        x = torch.from_numpy(observation).float().to(self.train_device)\n",
    "        action_probs, values = self.actor_critic(x)\n",
    "\n",
    "        if evaluation:\n",
    "            return torch.argmax(action_probs)\n",
    "\n",
    "        dist = Categorical(action_probs)\n",
    "        self.entropy += dist.entropy().mean()\n",
    "        action = dist.sample()\n",
    "        act_log_prob = dist.log_prob(action)\n",
    "        return action, act_log_prob, values\n",
    "\n",
    "    def store_outcome(self, observation, action_prob, reward, state_value, mask):\n",
    "        self.states.append(observation)\n",
    "        self.action_probs.append(action_prob)\n",
    "        self.rewards.append(reward)\n",
    "        self.state_values.append(state_value)\n",
    "        self.masks.append(mask)\n",
    "\n"
   ]
  },
  {
   "cell_type": "code",
   "execution_count": 5,
   "metadata": {},
   "outputs": [
    {
     "name": "stderr",
     "output_type": "stream",
     "text": [
      "[2019-11-17 12:31:47,561] Making new env: CartPole-v0\n",
      "/home/isaac/miniconda3/envs/pytorch13/lib/python3.6/site-packages/gym/envs/registration.py:17: PkgResourcesDeprecationWarning: Parameters to load are deprecated.  Call .resolve and .require separately.\n",
      "  result = entry_point.load(False)\n"
     ]
    }
   ],
   "source": [
    "# Create a Gym environment\n",
    "env_name = 'CartPole-v0'\n",
    "env = gym.make(env_name)\n",
    "\n",
    "train_frams = 50000\n",
    "num_steps = 5"
   ]
  },
  {
   "cell_type": "code",
   "execution_count": 6,
   "metadata": {
    "scrolled": true
   },
   "outputs": [
    {
     "name": "stderr",
     "output_type": "stream",
     "text": [
      "[2019-11-17 12:31:47,595] Making new env: CartPole-v0\n",
      "[2019-11-17 12:31:47,601] Making new env: CartPole-v0\n",
      "[2019-11-17 12:31:47,605] Making new env: CartPole-v0\n",
      "[2019-11-17 12:31:47,610] Making new env: CartPole-v0\n",
      "[2019-11-17 12:31:47,616] Making new env: CartPole-v0\n",
      "[2019-11-17 12:31:47,625] Making new env: CartPole-v0\n",
      "[2019-11-17 12:31:47,629] Making new env: CartPole-v0\n",
      "[2019-11-17 12:31:47,634] Making new env: CartPole-v0\n"
     ]
    }
   ],
   "source": [
    "def make_env():\n",
    "    def _thunk():\n",
    "        env = gym.make(env_name)\n",
    "        return env\n",
    "\n",
    "    return _thunk\n",
    "\n",
    "num_envs = 8\n",
    "envs = [make_env() for i in range(num_envs)]\n",
    "envs = SubprocVecEnv(envs)"
   ]
  },
  {
   "cell_type": "code",
   "execution_count": 7,
   "metadata": {},
   "outputs": [
    {
     "name": "stdout",
     "output_type": "stream",
     "text": [
      "action_space_dim:  2\n",
      "observation_space_dim:  4\n"
     ]
    }
   ],
   "source": [
    "# Get dimensionalities of actions and observations\n",
    "action_space_dim = env.action_space.n\n",
    "observation_space_dim = env.observation_space.shape[-1]\n",
    "print('action_space_dim: ', action_space_dim)\n",
    "print('observation_space_dim: ', observation_space_dim)\n",
    "\n",
    "hidden_size = 64\n",
    "\n",
    "# Instantiate agent and its policy\n",
    "actor_critic = ActorCritic(observation_space_dim, hidden_size, action_space_dim)\n",
    "agent = A2CAgent(actor_critic)"
   ]
  },
  {
   "cell_type": "code",
   "execution_count": 8,
   "metadata": {},
   "outputs": [],
   "source": [
    "def plot(frame_idx, rewards):\n",
    "    clear_output(True)\n",
    "    plt.figure(figsize=(20,5))\n",
    "    plt.subplot(131)\n",
    "    plt.title('frame %s. reward: %s' % (frame_idx, rewards[-1]))\n",
    "    plt.plot(rewards)\n",
    "    plt.show()\n",
    "    \n",
    "\n",
    "def test_env(env, agent, device, vis=False):\n",
    "    state = env.reset()\n",
    "    if vis: env.render()\n",
    "    done = False\n",
    "    total_reward = 0\n",
    "    while not done:\n",
    "        action = agent.get_action_update_entropy(state, evaluation=True)\n",
    "        next_state, reward, done, _ = env.step(action.detach().cpu().numpy())\n",
    "        state = next_state\n",
    "        if vis: env.render()\n",
    "        total_reward += reward\n",
    "    return total_reward\n"
   ]
  },
  {
   "cell_type": "code",
   "execution_count": 9,
   "metadata": {
    "scrolled": false
   },
   "outputs": [
    {
     "data": {
      "image/png": "[encoded data removed]",
      "text/plain": [
       "<Figure size 1440x360 with 1 Axes>"
      ]
     },
     "metadata": {
      "needs_background": "light"
     },
     "output_type": "display_data"
    }
   ],
   "source": [
    "# Arrays to keep track of rewards\n",
    "reward_history, timestep_history = [], []\n",
    "average_reward_history = []\n",
    "\n",
    "frame_idx = 0\n",
    "test_rewards = []\n",
    "\n",
    "observation = envs.reset()\n",
    "\n",
    "# Run actual training\n",
    "while frame_idx < train_frams:\n",
    "    for step in range(num_steps):\n",
    "        # Get action from the agent\n",
    "        action, action_probabilities, state_value = agent.get_action_update_entropy(observation)\n",
    "        previous_observation = observation\n",
    "\n",
    "        # Perform the action on the environment, get new state and reward\n",
    "        next_observation, reward, done, _ = envs.step(action.detach().cpu().numpy())\n",
    "\n",
    "        mask = torch.FloatTensor(1 - done).unsqueeze(1).to(agent.train_device)\n",
    "        reward = torch.FloatTensor(reward).unsqueeze(1).to(agent.train_device)\n",
    "\n",
    "        # Store action's outcome (so that the agent can improve its policy)\n",
    "        agent.store_outcome(previous_observation,\n",
    "                            action_probabilities,\n",
    "                            reward,\n",
    "                            state_value,\n",
    "                            mask)\n",
    "\n",
    "        observation = next_observation\n",
    "        frame_idx += 1\n",
    "\n",
    "        if frame_idx % 1000 == 0:\n",
    "            test_rewards.append(np.mean([test_env(env, agent, agent.train_device) for _ in range(10)]))\n",
    "            plot(frame_idx, test_rewards)\n",
    "\n",
    "    next_observation = torch.from_numpy(next_observation).float().to(agent.train_device)\n",
    "    _, next_state_value = agent.actor_critic(next_observation)\n",
    "    agent.do_update(next_state_value)\n"
   ]
  },
  {
   "cell_type": "code",
   "execution_count": null,
   "metadata": {},
   "outputs": [],
   "source": []
  },
  {
   "cell_type": "code",
   "execution_count": null,
   "metadata": {},
   "outputs": [],
   "source": []
  }
 ],
 "metadata": {
  "kernelspec": {
   "display_name": "Python 3",
   "language": "python",
   "name": "python3"
  },
  "language_info": {
   "codemirror_mode": {
    "name": "ipython",
    "version": 3
   },
   "file_extension": ".py",
   "mimetype": "text/x-python",
   "name": "python",
   "nbconvert_exporter": "python",
   "pygments_lexer": "ipython3",
   "version": "3.6.9"
  }
 },
 "nbformat": 4,
 "nbformat_minor": 2
}
